{
  "cells": [
    {
      "cell_type": "markdown",
      "metadata": {
        "id": "qp1uiwQaOVF3"
      },
      "source": [
        "# Introduction\n",
        "\n",
        "In this project, you will build a neural network of your own design to evaluate the CIFAR-10 dataset.\n",
        "Our target accuracy is 70%, but any accuracy over 50% is a great start.\n",
        "Some of the benchmark results on CIFAR-10 include:\n",
        "\n",
        "78.9% Accuracy | [Deep Belief Networks; Krizhevsky, 2010](https://www.cs.toronto.edu/~kriz/conv-cifar10-aug2010.pdf)\n",
        "\n",
        "90.6% Accuracy | [Maxout Networks; Goodfellow et al., 2013](https://arxiv.org/pdf/1302.4389.pdf)\n",
        "\n",
        "96.0% Accuracy | [Wide Residual Networks; Zagoruyko et al., 2016](https://arxiv.org/pdf/1605.07146.pdf)\n",
        "\n",
        "99.0% Accuracy | [GPipe; Huang et al., 2018](https://arxiv.org/pdf/1811.06965.pdf)\n",
        "\n",
        "98.5% Accuracy | [Rethinking Recurrent Neural Networks and other Improvements for ImageClassification; Nguyen et al., 2020](https://arxiv.org/pdf/2007.15161.pdf)\n",
        "\n",
        "Research with this dataset is ongoing. Notably, many of these networks are quite large and quite expensive to train. \n",
        "\n",
        "## Imports"
      ]
    },
    {
      "cell_type": "code",
      "execution_count": 1,
      "metadata": {
        "id": "j4W19_2SOVF4"
      },
      "outputs": [],
      "source": [
        "## This cell contains the essential imports you will need – DO NOT CHANGE THE CONTENTS! ##\n",
        "import torch\n",
        "import torch.nn as nn\n",
        "import torch.nn.functional as F\n",
        "import torch.optim as optim\n",
        "import torchvision\n",
        "import torchvision.transforms as transforms\n",
        "import matplotlib.pyplot as plt\n",
        "import numpy as np"
      ]
    },
    {
      "cell_type": "code",
      "execution_count": 2,
      "metadata": {
        "colab": {
          "base_uri": "https://localhost:8080/"
        },
        "id": "wkS1BpqmOVF5",
        "outputId": "738de78b-8e39-4ecc-c699-b3c6638335f8"
      },
      "outputs": [
        {
          "output_type": "execute_result",
          "data": {
            "text/plain": [
              "True"
            ]
          },
          "metadata": {},
          "execution_count": 2
        }
      ],
      "source": [
        "#Checking to see if GPU is available\n",
        "#Just purchased a new Macbook Pro with M1 Max chip. \n",
        "#Still not able to figure out how to use the 32 cores of GPU built in\n",
        "train_on_gpu = torch.cuda.is_available()\n",
        "train_on_gpu"
      ]
    },
    {
      "cell_type": "markdown",
      "metadata": {
        "id": "Amo0TMMvOVF6"
      },
      "source": [
        "## Load the Dataset\n",
        "\n",
        "Specify your transforms as a list first.\n",
        "The transforms module is already loaded as `transforms`.\n",
        "\n",
        "CIFAR-10 is fortunately included in the torchvision module.\n",
        "Then, you can create your dataset using the `CIFAR10` object from `torchvision.datasets` ([the documentation is available here](https://pytorch.org/docs/stable/torchvision/datasets.html#cifar)).\n",
        "Make sure to specify `download=True`! \n",
        "\n",
        "Once your dataset is created, you'll also need to define a `DataLoader` from the `torch.utils.data` module for both the train and the test set."
      ]
    },
    {
      "cell_type": "code",
      "execution_count": 3,
      "metadata": {
        "colab": {
          "base_uri": "https://localhost:8080/",
          "height": 120,
          "referenced_widgets": [
            "f34495adaefb4f9698c91d30124e6f22",
            "869a9768a83d46dbb9e3ab7048ecf829",
            "ff5ec86c022d4af18af3053d27f116b0",
            "310c5721a38e4311a40b7d46a923aaa7",
            "b110f686eb324dddb81428fb8531d7fc",
            "afdf4f4fc5bb4dddb44a40dfa069db7e",
            "ae5ae314120d46e785af94fab8ad5053",
            "6758c5f405094fd4a992f286b0289d23",
            "e93bb605c08d489ab335c42b3291fc7e",
            "1c8dd24e936349969dcf2a977dfd40f7",
            "3e5f76ba10a44623928ef2a5a3edd659"
          ]
        },
        "id": "E7rnrn79OVF6",
        "outputId": "adae88c1-75ee-4ed2-8012-04194d0d9dc3"
      },
      "outputs": [
        {
          "output_type": "stream",
          "name": "stdout",
          "text": [
            "Downloading https://www.cs.toronto.edu/~kriz/cifar-10-python.tar.gz to CIFAR10_data/cifar-10-python.tar.gz\n"
          ]
        },
        {
          "output_type": "display_data",
          "data": {
            "text/plain": [
              "  0%|          | 0/170498071 [00:00<?, ?it/s]"
            ],
            "application/vnd.jupyter.widget-view+json": {
              "version_major": 2,
              "version_minor": 0,
              "model_id": "f34495adaefb4f9698c91d30124e6f22"
            }
          },
          "metadata": {}
        },
        {
          "output_type": "stream",
          "name": "stdout",
          "text": [
            "Extracting CIFAR10_data/cifar-10-python.tar.gz to CIFAR10_data/\n",
            "Files already downloaded and verified\n"
          ]
        }
      ],
      "source": [
        "# Define transforms\n",
        "train_transforms = transforms.Compose([transforms.Resize(32),\n",
        "                                       transforms.RandomRotation(30),\n",
        "                                       transforms.RandomHorizontalFlip(),\n",
        "                                       transforms.ToTensor(),\n",
        "                                       transforms.Normalize([0.5, 0.5, 0.5], \n",
        "                                                            [0.5, 0.5, 0.5])])\n",
        "\n",
        "test_transforms = transforms.Compose([transforms.ToTensor(),\n",
        "                                      transforms.Normalize([0.5, 0.5, 0.5],\n",
        "                                                           [0.5, 0.5, 0.5])])\n",
        "\n",
        "# Specify batch size\n",
        "batch_size = 32\n",
        "\n",
        "# Create training set and define training dataloader\n",
        "train_set = torchvision.datasets.CIFAR10('CIFAR10_data/', download=True, train=True, \n",
        "                                          transform=train_transforms)\n",
        "# Create test set and define test dataloader\n",
        "train_loader = torch.utils.data.DataLoader(train_set, batch_size=batch_size, shuffle=True)\n",
        "\n",
        "# Create validation set and define validation dataloader\n",
        "test_data = torchvision.datasets.CIFAR10('CIFAR10_data/', download=True, train=False, \n",
        "                                          transform=test_transforms)\n",
        "\n",
        "#Using 90% of test data for testing and 10% for validation\n",
        "test_size = int(len(test_data)*0.8)\n",
        "val_size = int(len(test_data) - test_size)\n",
        "test_set, val_set = torch.utils.data.random_split(test_data, [test_size, val_size])\n",
        "\n",
        "# Defining test and validation dataloaders\n",
        "test_loader = torch.utils.data.DataLoader(test_set, batch_size=batch_size, shuffle=True)\n",
        "val_loader = torch.utils.data.DataLoader(val_set, batch_size=batch_size, shuffle=True)\n",
        "\n",
        "# The 10 classes in the dataset\n",
        "classes = ('plane', 'car', 'bird', 'cat', 'deer', 'dog', 'frog', 'horse', 'ship', 'truck')"
      ]
    },
    {
      "cell_type": "markdown",
      "metadata": {
        "id": "beEjIOC9OVF6"
      },
      "source": [
        "## Explore the Dataset\n",
        "Using matplotlib, numpy, and torch, explore the dimensions of your data.\n",
        "\n",
        "You can view images using the `show5` function defined below – it takes a data loader as an argument.\n",
        "Remember that normalized images will look really weird to you! You may want to try changing your transforms to view images.\n",
        "Typically using no transforms other than `toTensor()` works well for viewing – but not as well for training your network.\n",
        "If `show5` doesn't work, go back and check your code for creating your data loaders and your training/test sets."
      ]
    },
    {
      "cell_type": "code",
      "execution_count": 4,
      "metadata": {
        "colab": {
          "base_uri": "https://localhost:8080/"
        },
        "id": "Yf7siQixOVF7",
        "outputId": "7b493a35-cc6c-426d-803d-bcf94ebcf3ec"
      },
      "outputs": [
        {
          "output_type": "stream",
          "name": "stdout",
          "text": [
            "Number of images in the training set: 50000\n",
            "Number of images in the validation set: 2000\n",
            "Number of images in the test set: 8000\n",
            "Total number of images in the CIFAR-10 dataset: 60000\n"
          ]
        }
      ],
      "source": [
        "# Using the len function to see the number of images in the training, validation, and test sets.\n",
        "print('Number of images in the training set:', len(train_set))\n",
        "print('Number of images in the validation set:', len(val_set))\n",
        "print('Number of images in the test set:', len(test_set))\n",
        "print('Total number of images in the CIFAR-10 dataset:', len(train_set)+len(val_set)+len(test_set))"
      ]
    },
    {
      "cell_type": "code",
      "execution_count": 5,
      "metadata": {
        "colab": {
          "base_uri": "https://localhost:8080/"
        },
        "id": "pk31ch0nOVF7",
        "outputId": "c94cf10c-2a7c-4c2b-a361-db776ed70722"
      },
      "outputs": [
        {
          "output_type": "stream",
          "name": "stdout",
          "text": [
            "The shapes of training and testing data are the same? True\n",
            "Overall shape of image batch data: torch.Size([32, 3, 32, 32])\n",
            "Number of images in each batch: 32\n",
            "Shape of each image: torch.Size([3, 32, 32])\n"
          ]
        }
      ],
      "source": [
        "# Checking the size and shape of random images in the dataset\n",
        "dataiter = iter(train_loader)\n",
        "dataiter_test = iter(test_loader)\n",
        "images, labels = dataiter.next()\n",
        "images_test, labels_test = dataiter_test.next()\n",
        "print('The shapes of training and testing data are the same?', images.shape == images_test.shape)\n",
        "print('Overall shape of image batch data:', images.shape)\n",
        "print('Number of images in each batch:', images.shape[0])\n",
        "print('Shape of each image:', images[0].shape)"
      ]
    },
    {
      "cell_type": "code",
      "execution_count": 6,
      "metadata": {
        "id": "NZMdlwh7OVF8"
      },
      "outputs": [],
      "source": [
        "# Create a function to show a number of images from a dataset based on input\n",
        "def show_images(img_loader, img_num):\n",
        "    dataiter = iter(img_loader)\n",
        "    batch = next(dataiter)\n",
        "    labels = batch[1][0:img_num]\n",
        "    images = batch[0][0:img_num]\n",
        "    fig = plt.figure(figsize=(15,5))\n",
        "    for i in range(img_num):\n",
        "        ax = fig.add_subplot(1, img_num, i+1, xticks=[], yticks=[])\n",
        "        ax.set_title(classes[labels[i]])\n",
        "        image = (images[i] / 2 + 0.5).numpy()\n",
        "        plt.imshow(np.transpose(image, (1, 2, 0)))\n"
      ]
    },
    {
      "cell_type": "code",
      "execution_count": 8,
      "metadata": {
        "colab": {
          "base_uri": "https://localhost:8080/",
          "height": 166
        },
        "id": "4AvxfY8POVF8",
        "outputId": "12fc6c36-469a-4271-901d-8c19c02e2b3c"
      },
      "outputs": [
        {
          "output_type": "display_data",
          "data": {
            "text/plain": [
              "<Figure size 1080x360 with 5 Axes>"
            ],
            "image/png": "[encoded data removed]"
          },
          "metadata": {}
        }
      ],
      "source": [
        "#Displaying a random 7 images for the training set\n",
        "show_images(train_loader, 5)\n"
      ]
    },
    {
      "cell_type": "code",
      "execution_count": 10,
      "metadata": {
        "colab": {
          "base_uri": "https://localhost:8080/",
          "height": 166
        },
        "id": "bbB03VUOOVF8",
        "outputId": "6be96a39-cba0-4e4d-ed4b-9bd705da1b9f"
      },
      "outputs": [
        {
          "output_type": "display_data",
          "data": {
            "text/plain": [
              "<Figure size 1080x360 with 5 Axes>"
            ],
            "image/png": "[encoded data removed]"
          },
          "metadata": {}
        }
      ],
      "source": [
        "#Displaying a random 7 images for the testing set\n",
        "show_images(test_loader, 5)\n"
      ]
    },
    {
      "cell_type": "markdown",
      "metadata": {
        "id": "WGNGPv8HOVF8"
      },
      "source": [
        "## Build your Neural Network\n",
        "Using the layers in `torch.nn` (which has been imported as `nn`) and the `torch.nn.functional` module (imported as `F`), construct a neural network based on the parameters of the dataset. \n",
        "Feel free to construct a model of any architecture – feedforward, convolutional, or even something more advanced!"
      ]
    },
    {
      "cell_type": "code",
      "execution_count": 11,
      "metadata": {
        "id": "Qyed_6baOVF9"
      },
      "outputs": [],
      "source": [
        "class CIFAR10_model(nn.Module):\n",
        "    def __init__(self):\n",
        "        super().__init__()\n",
        "        self.conv1 = nn.Conv2d(in_channels=3, out_channels=6, kernel_size=5)\n",
        "        self.bn1 = nn.BatchNorm2d(6)\n",
        "        self.conv2 = nn.Conv2d(in_channels=6, out_channels=16, kernel_size=5)\n",
        "        self.bn2 = nn.BatchNorm2d(16)\n",
        "        self.conv3 = nn.Conv2d(in_channels=16, out_channels=32, kernel_size=5)\n",
        "        self.bn3 = nn.BatchNorm2d(32)\n",
        "        self.pool = nn.MaxPool2d(2,2)\n",
        "        self.fc1 = nn.Linear(32*10*10, 120)\n",
        "        self.fc2 = nn.Linear(120, 84)\n",
        "        self.fc3 = nn.Linear(84, 10)\n",
        "        self.dropout = nn.Dropout(p=0.1)\n",
        "\n",
        "    def forward(self, input):\n",
        "        output = self.dropout(F.relu(self.bn1(self.conv1(input))))\n",
        "        output = self.dropout(F.relu(self.bn2(self.conv2(output))))\n",
        "        output = self.dropout(F.relu(self.bn3(self.conv3(output))))\n",
        "        output = self.pool(output)\n",
        "        output = output.view(output.shape[0], -1)\n",
        "        output = self.dropout(F.relu(self.fc1(output)))\n",
        "        output = self.dropout(F.relu(self.fc2(output)))\n",
        "        output = F.log_softmax(self.fc3(output), dim=1)\n",
        "\n",
        "        return output"
      ]
    },
    {
      "cell_type": "markdown",
      "metadata": {
        "id": "a-gYegY9OVF9"
      },
      "source": [
        "Specify a loss function and an optimizer, and instantiate the model.\n",
        "\n",
        "If you use a less common loss function, please note why you chose that loss function in a comment."
      ]
    },
    {
      "cell_type": "code",
      "execution_count": 47,
      "metadata": {
        "id": "f9Z7NKQQOVF9"
      },
      "outputs": [],
      "source": [
        "model = CIFAR10_model()\n",
        "criterion = nn.CrossEntropyLoss()\n",
        "\n",
        "optimizer = optim.SGD(model.parameters(), lr=0.0001, momentum=0.99)"
      ]
    },
    {
      "cell_type": "markdown",
      "metadata": {
        "id": "BOfcFKaqOVF9"
      },
      "source": [
        "## Running your Neural Network\n",
        "Use whatever method you like to train your neural network, and ensure you record the average loss at each epoch. \n",
        "Don't forget to use `torch.device()` and the `.to()` method for both your model and your data if you are using GPU!\n",
        "\n",
        "If you want to print your loss during each epoch, you can use the `enumerate` function and print the loss after a set number of batches. 250 batches works well for most people!"
      ]
    },
    {
      "cell_type": "markdown",
      "metadata": {
        "id": "GTb8RJ7WOVF9"
      },
      "source": [
        "Plot the training loss (and validation loss/accuracy, if recorded)."
      ]
    },
    {
      "cell_type": "code",
      "source": [
        "# Use the GPU of the machine if available\n",
        "device = torch.device('cpu')\n",
        "print('Running on', device)\n",
        "model.to(device)"
      ],
      "metadata": {
        "colab": {
          "base_uri": "https://localhost:8080/"
        },
        "id": "rVWily2moWMK",
        "outputId": "dfaf95ea-8ce1-4405-9868-9acc4a8788cd"
      },
      "execution_count": 48,
      "outputs": [
        {
          "output_type": "stream",
          "name": "stdout",
          "text": [
            "Running on cpu\n"
          ]
        },
        {
          "output_type": "execute_result",
          "data": {
            "text/plain": [
              "CIFAR10_model(\n",
              "  (conv1): Conv2d(3, 6, kernel_size=(5, 5), stride=(1, 1))\n",
              "  (bn1): BatchNorm2d(6, eps=1e-05, momentum=0.1, affine=True, track_running_stats=True)\n",
              "  (conv2): Conv2d(6, 16, kernel_size=(5, 5), stride=(1, 1))\n",
              "  (bn2): BatchNorm2d(16, eps=1e-05, momentum=0.1, affine=True, track_running_stats=True)\n",
              "  (conv3): Conv2d(16, 32, kernel_size=(5, 5), stride=(1, 1))\n",
              "  (bn3): BatchNorm2d(32, eps=1e-05, momentum=0.1, affine=True, track_running_stats=True)\n",
              "  (pool): MaxPool2d(kernel_size=2, stride=2, padding=0, dilation=1, ceil_mode=False)\n",
              "  (fc1): Linear(in_features=3200, out_features=120, bias=True)\n",
              "  (fc2): Linear(in_features=120, out_features=84, bias=True)\n",
              "  (fc3): Linear(in_features=84, out_features=10, bias=True)\n",
              "  (dropout): Dropout(p=0.1, inplace=False)\n",
              ")"
            ]
          },
          "metadata": {},
          "execution_count": 48
        }
      ]
    },
    {
      "cell_type": "code",
      "execution_count": 49,
      "metadata": {
        "colab": {
          "base_uri": "https://localhost:8080/"
        },
        "id": "48osyUHVOVF-",
        "outputId": "85892cd1-9cd0-459d-863f-bd81e017297e"
      },
      "outputs": [
        {
          "output_type": "stream",
          "name": "stdout",
          "text": [
            "Epoch: 1/30..  Training Loss: 1.838..  Validation Loss: 1.518..  Validation Accuracy: 0.447\n",
            "Epoch: 2/30..  Training Loss: 1.535..  Validation Loss: 1.375..  Validation Accuracy: 0.513\n",
            "Epoch: 3/30..  Training Loss: 1.430..  Validation Loss: 1.266..  Validation Accuracy: 0.545\n",
            "Epoch: 4/30..  Training Loss: 1.362..  Validation Loss: 1.193..  Validation Accuracy: 0.568\n",
            "Epoch: 5/30..  Training Loss: 1.307..  Validation Loss: 1.167..  Validation Accuracy: 0.583\n",
            "Epoch: 6/30..  Training Loss: 1.253..  Validation Loss: 1.099..  Validation Accuracy: 0.609\n",
            "Epoch: 7/30..  Training Loss: 1.218..  Validation Loss: 1.058..  Validation Accuracy: 0.620\n",
            "Epoch: 8/30..  Training Loss: 1.186..  Validation Loss: 1.024..  Validation Accuracy: 0.647\n",
            "Epoch: 9/30..  Training Loss: 1.160..  Validation Loss: 1.013..  Validation Accuracy: 0.652\n",
            "Epoch: 10/30..  Training Loss: 1.130..  Validation Loss: 1.002..  Validation Accuracy: 0.649\n",
            "Epoch: 11/30..  Training Loss: 1.120..  Validation Loss: 0.983..  Validation Accuracy: 0.652\n",
            "Epoch: 12/30..  Training Loss: 1.090..  Validation Loss: 0.957..  Validation Accuracy: 0.666\n",
            "Epoch: 13/30..  Training Loss: 1.066..  Validation Loss: 0.954..  Validation Accuracy: 0.669\n",
            "Epoch: 14/30..  Training Loss: 1.061..  Validation Loss: 0.918..  Validation Accuracy: 0.679\n",
            "Epoch: 15/30..  Training Loss: 1.041..  Validation Loss: 0.934..  Validation Accuracy: 0.665\n",
            "Epoch: 16/30..  Training Loss: 1.025..  Validation Loss: 0.913..  Validation Accuracy: 0.675\n",
            "Epoch: 17/30..  Training Loss: 1.020..  Validation Loss: 0.920..  Validation Accuracy: 0.675\n",
            "Epoch: 18/30..  Training Loss: 1.000..  Validation Loss: 0.899..  Validation Accuracy: 0.685\n",
            "Epoch: 19/30..  Training Loss: 0.988..  Validation Loss: 0.868..  Validation Accuracy: 0.692\n",
            "Epoch: 20/30..  Training Loss: 0.981..  Validation Loss: 0.870..  Validation Accuracy: 0.692\n",
            "Epoch: 21/30..  Training Loss: 0.971..  Validation Loss: 0.854..  Validation Accuracy: 0.705\n",
            "Epoch: 22/30..  Training Loss: 0.962..  Validation Loss: 0.852..  Validation Accuracy: 0.695\n",
            "Epoch: 23/30..  Training Loss: 0.949..  Validation Loss: 0.858..  Validation Accuracy: 0.694\n",
            "Epoch: 24/30..  Training Loss: 0.939..  Validation Loss: 0.835..  Validation Accuracy: 0.716\n",
            "Epoch: 25/30..  Training Loss: 0.933..  Validation Loss: 0.838..  Validation Accuracy: 0.710\n",
            "Epoch: 26/30..  Training Loss: 0.921..  Validation Loss: 0.870..  Validation Accuracy: 0.689\n",
            "Epoch: 27/30..  Training Loss: 0.922..  Validation Loss: 0.825..  Validation Accuracy: 0.709\n",
            "Epoch: 28/30..  Training Loss: 0.906..  Validation Loss: 0.829..  Validation Accuracy: 0.710\n",
            "Epoch: 29/30..  Training Loss: 0.903..  Validation Loss: 0.805..  Validation Accuracy: 0.722\n",
            "Epoch: 30/30..  Training Loss: 0.895..  Validation Loss: 0.806..  Validation Accuracy: 0.720\n"
          ]
        }
      ],
      "source": [
        "# Train the model\n",
        "epochs = 30\n",
        "\n",
        "train_losses = []\n",
        "val_losses = []\n",
        "val_accuracies =[]\n",
        "\n",
        "for epoch in range(epochs):\n",
        "    running_loss = 0\n",
        "    for images, labels in train_loader:\n",
        "        images, labels = images.to(device), labels.to(device)\n",
        "        optimizer.zero_grad()\n",
        "        \n",
        "        log_ps = model(images)\n",
        "        loss = criterion(log_ps, labels)\n",
        "        loss.backward()\n",
        "        optimizer.step()\n",
        "        \n",
        "        running_loss += loss.item()\n",
        "        \n",
        "    else:\n",
        "        val_loss = 0\n",
        "        accuracy = 0\n",
        "        \n",
        "        with torch.no_grad():\n",
        "            model.eval()\n",
        "            for images, labels in val_loader:\n",
        "                images, labels = images.to(device), labels.to(device)\n",
        "                log_ps = model(images)\n",
        "                val_loss += criterion(log_ps, labels)\n",
        "                \n",
        "                ps = torch.exp(log_ps)\n",
        "                top_p, top_class = ps.topk(1, dim=1)\n",
        "                equals = top_class == labels.view(*top_class.shape)\n",
        "                accuracy += torch.mean(equals.type(torch.FloatTensor))\n",
        "        \n",
        "        model.train()\n",
        "        \n",
        "        train_losses.append(running_loss/len(train_loader))\n",
        "        val_losses.append(val_loss/len(val_loader))\n",
        "        val_accuracies.append(accuracy/len(val_loader))\n",
        "\n",
        "        print('Epoch: {}/{}.. '.format(epoch+1, epochs),\n",
        "              'Training Loss: {:.3f}.. '.format(running_loss/len(train_loader)),\n",
        "              'Validation Loss: {:.3f}.. '.format(val_loss/len(val_loader)),\n",
        "              'Validation Accuracy: {:.3f}'.format(accuracy/len(val_loader)))"
      ]
    },
    {
      "cell_type": "code",
      "source": [
        "# Plot the training loss of the model\n",
        "plt.figure(figsize = [10, 4])\n",
        "plt.plot(train_losses, label='Training loss')\n",
        "plt.plot(val_losses, label='Validation loss')\n",
        "plt.xlabel('Epocs')\n",
        "plt.ylabel('Loss')\n",
        "plt.title('Training and Validation Loss')\n",
        "plt.legend(frameon=False)\n",
        "plt.show()"
      ],
      "metadata": {
        "colab": {
          "base_uri": "https://localhost:8080/",
          "height": 295
        },
        "id": "WB6zQto3RO1D",
        "outputId": "d4ca2b5f-572b-4eeb-e119-c2db4fe75603"
      },
      "execution_count": 50,
      "outputs": [
        {
          "output_type": "display_data",
          "data": {
            "text/plain": [
              "<Figure size 720x288 with 1 Axes>"
            ],
            "image/png": "[encoded data removed]"
          },
          "metadata": {
            "needs_background": "light"
          }
        }
      ]
    },
    {
      "cell_type": "code",
      "source": [
        "# Plotting the accuracy throughout the Epocs\n",
        "plt.figure(figsize = [10, 4])\n",
        "plt.plot(val_accuracies, label='Validation Accuracy')\n",
        "plt.xlabel('Epocs')\n",
        "plt.ylabel('Accuracy')\n",
        "plt.title('Validation Accuracy of the model')\n",
        "plt.legend(frameon=False)\n",
        "plt.show()"
      ],
      "metadata": {
        "colab": {
          "base_uri": "https://localhost:8080/",
          "height": 295
        },
        "id": "dlA-MXr7RRCn",
        "outputId": "303c36c4-0945-4dd4-950a-70be0f4bde6b"
      },
      "execution_count": 51,
      "outputs": [
        {
          "output_type": "display_data",
          "data": {
            "text/plain": [
              "<Figure size 720x288 with 1 Axes>"
            ],
            "image/png": "[encoded data removed]"
          },
          "metadata": {
            "needs_background": "light"
          }
        }
      ]
    },
    {
      "cell_type": "markdown",
      "metadata": {
        "id": "HOo8zEzjOVF-"
      },
      "source": [
        "## Testing your model\n",
        "Using the previously created `DataLoader` for the test set, compute the percentage of correct predictions using the highest probability prediction. \n",
        "\n",
        "If your accuracy is over 70%, great work! \n",
        "This is a hard task to exceed 70% on.\n",
        "\n",
        "If your accuracy is under 45%, you'll need to make improvements.\n",
        "Go back and check your model architecture, loss function, and optimizer to make sure they're appropriate for an image classification task."
      ]
    },
    {
      "cell_type": "code",
      "execution_count": 52,
      "metadata": {
        "colab": {
          "base_uri": "https://localhost:8080/"
        },
        "id": "17nnt4pPOVF-",
        "outputId": "065c5158-ec04-4524-dbd3-ec37811b34aa"
      },
      "outputs": [
        {
          "output_type": "stream",
          "name": "stdout",
          "text": [
            "Test Accuracy: 72.2%\n"
          ]
        }
      ],
      "source": [
        "accuracy = 0\n",
        "with torch.no_grad():\n",
        "    model.eval()\n",
        "    for images, labels in test_loader:\n",
        "        images, labels = images.to(device), labels.to(device)\n",
        "        log_ps = model(images)\n",
        "        ps = torch.exp(log_ps)\n",
        "        top_p, top_class = ps.topk(1, dim=1)\n",
        "        equals = top_class == labels.view(*top_class.shape)\n",
        "        accuracy += torch.mean(equals.type(torch.FloatTensor))\n",
        "print('Test Accuracy: {:.1f}%'.format(accuracy/len(test_loader)*100))"
      ]
    },
    {
      "cell_type": "markdown",
      "metadata": {
        "id": "aufBeJMdOVF-"
      },
      "source": [
        "## Saving your model\n",
        "Using `torch.save`, save your model for future loading."
      ]
    },
    {
      "cell_type": "code",
      "execution_count": 53,
      "metadata": {
        "id": "gtXOQQlcOVF-"
      },
      "outputs": [],
      "source": [
        "CIFAR10_model_checkpoint = {'state_dict': model.state_dict(),\n",
        "                            'optim_dict':optimizer.state_dict()}\n",
        "\n",
        "torch.save(CIFAR10_model_checkpoint, 'CIFAR10_30_CPU_Epoch_Slower_TR.pth')"
      ]
    },
    {
      "cell_type": "markdown",
      "metadata": {
        "id": "BdebyXxBOVF-"
      },
      "source": [
        "As one can see, we can achieve an accuracy of around 72.2% on the CIFAR Dataset. This was done with a fairly simple model. With more accurate models set up, we could achieve an even higher accuracy rate. With this in mind, I don't think is would be a good idea to purachase the model, rather we should just build it in house. \n",
        "\n",
        "Additionally, links to research at the top of this documents show methods to getting up to a 99% accuracy. "
      ]
    },
    {
      "cell_type": "code",
      "source": [],
      "metadata": {
        "id": "-0q1HZH7kh9_"
      },
      "execution_count": 16,
      "outputs": []
    }
  ],
  "metadata": {
    "kernelspec": {
      "display_name": "Python 3 (ipykernel)",
      "language": "python",
      "name": "python3"
    },
    "language_info": {
      "codemirror_mode": {
        "name": "ipython",
        "version": 3
      },
      "file_extension": ".py",
      "mimetype": "text/x-python",
      "name": "python",
      "nbconvert_exporter": "python",
      "pygments_lexer": "ipython3",
      "version": "3.9.13"
    },
    "colab": {
      "provenance": [],
      "collapsed_sections": [],
      "machine_shape": "hm"
    },
    "accelerator": "GPU",
    "widgets": {
      "application/vnd.jupyter.widget-state+json": {
        "f34495adaefb4f9698c91d30124e6f22": {
          "model_module": "@jupyter-widgets/controls",
          "model_name": "HBoxModel",
          "model_module_version": "1.5.0",
          "state": {
            "_dom_classes": [],
            "_model_module": "@jupyter-widgets/controls",
            "_model_module_version": "1.5.0",
            "_model_name": "HBoxModel",
            "_view_count": null,
            "_view_module": "@jupyter-widgets/controls",
            "_view_module_version": "1.5.0",
            "_view_name": "HBoxView",
            "box_style": "",
            "children": [
              "IPY_MODEL_869a9768a83d46dbb9e3ab7048ecf829",
              "IPY_MODEL_ff5ec86c022d4af18af3053d27f116b0",
              "IPY_MODEL_310c5721a38e4311a40b7d46a923aaa7"
            ],
            "layout": "IPY_MODEL_b110f686eb324dddb81428fb8531d7fc"
          }
        },
        "869a9768a83d46dbb9e3ab7048ecf829": {
          "model_module": "@jupyter-widgets/controls",
          "model_name": "HTMLModel",
          "model_module_version": "1.5.0",
          "state": {
            "_dom_classes": [],
            "_model_module": "@jupyter-widgets/controls",
            "_model_module_version": "1.5.0",
            "_model_name": "HTMLModel",
            "_view_count": null,
            "_view_module": "@jupyter-widgets/controls",
            "_view_module_version": "1.5.0",
            "_view_name": "HTMLView",
            "description": "",
            "description_tooltip": null,
            "layout": "IPY_MODEL_afdf4f4fc5bb4dddb44a40dfa069db7e",
            "placeholder": "​",
            "style": "IPY_MODEL_ae5ae314120d46e785af94fab8ad5053",
            "value": "100%"
          }
        },
        "ff5ec86c022d4af18af3053d27f116b0": {
          "model_module": "@jupyter-widgets/controls",
          "model_name": "FloatProgressModel",
          "model_module_version": "1.5.0",
          "state": {
            "_dom_classes": [],
            "_model_module": "@jupyter-widgets/controls",
            "_model_module_version": "1.5.0",
            "_model_name": "FloatProgressModel",
            "_view_count": null,
            "_view_module": "@jupyter-widgets/controls",
            "_view_module_version": "1.5.0",
            "_view_name": "ProgressView",
            "bar_style": "success",
            "description": "",
            "description_tooltip": null,
            "layout": "IPY_MODEL_6758c5f405094fd4a992f286b0289d23",
            "max": 170498071,
            "min": 0,
            "orientation": "horizontal",
            "style": "IPY_MODEL_e93bb605c08d489ab335c42b3291fc7e",
            "value": 170498071
          }
        },
        "310c5721a38e4311a40b7d46a923aaa7": {
          "model_module": "@jupyter-widgets/controls",
          "model_name": "HTMLModel",
          "model_module_version": "1.5.0",
          "state": {
            "_dom_classes": [],
            "_model_module": "@jupyter-widgets/controls",
            "_model_module_version": "1.5.0",
            "_model_name": "HTMLModel",
            "_view_count": null,
            "_view_module": "@jupyter-widgets/controls",
            "_view_module_version": "1.5.0",
            "_view_name": "HTMLView",
            "description": "",
            "description_tooltip": null,
            "layout": "IPY_MODEL_1c8dd24e936349969dcf2a977dfd40f7",
            "placeholder": "​",
            "style": "IPY_MODEL_3e5f76ba10a44623928ef2a5a3edd659",
            "value": " 170498071/170498071 [00:03&lt;00:00, 54879768.15it/s]"
          }
        },
        "b110f686eb324dddb81428fb8531d7fc": {
          "model_module": "@jupyter-widgets/base",
          "model_name": "LayoutModel",
          "model_module_version": "1.2.0",
          "state": {
            "_model_module": "@jupyter-widgets/base",
            "_model_module_version": "1.2.0",
            "_model_name": "LayoutModel",
            "_view_count": null,
            "_view_module": "@jupyter-widgets/base",
            "_view_module_version": "1.2.0",
            "_view_name": "LayoutView",
            "align_content": null,
            "align_items": null,
            "align_self": null,
            "border": null,
            "bottom": null,
            "display": null,
            "flex": null,
            "flex_flow": null,
            "grid_area": null,
            "grid_auto_columns": null,
            "grid_auto_flow": null,
            "grid_auto_rows": null,
            "grid_column": null,
            "grid_gap": null,
            "grid_row": null,
            "grid_template_areas": null,
            "grid_template_columns": null,
            "grid_template_rows": null,
            "height": null,
            "justify_content": null,
            "justify_items": null,
            "left": null,
            "margin": null,
            "max_height": null,
            "max_width": null,
            "min_height": null,
            "min_width": null,
            "object_fit": null,
            "object_position": null,
            "order": null,
            "overflow": null,
            "overflow_x": null,
            "overflow_y": null,
            "padding": null,
            "right": null,
            "top": null,
            "visibility": null,
            "width": null
          }
        },
        "afdf4f4fc5bb4dddb44a40dfa069db7e": {
          "model_module": "@jupyter-widgets/base",
          "model_name": "LayoutModel",
          "model_module_version": "1.2.0",
          "state": {
            "_model_module": "@jupyter-widgets/base",
            "_model_module_version": "1.2.0",
            "_model_name": "LayoutModel",
            "_view_count": null,
            "_view_module": "@jupyter-widgets/base",
            "_view_module_version": "1.2.0",
            "_view_name": "LayoutView",
            "align_content": null,
            "align_items": null,
            "align_self": null,
            "border": null,
            "bottom": null,
            "display": null,
            "flex": null,
            "flex_flow": null,
            "grid_area": null,
            "grid_auto_columns": null,
            "grid_auto_flow": null,
            "grid_auto_rows": null,
            "grid_column": null,
            "grid_gap": null,
            "grid_row": null,
            "grid_template_areas": null,
            "grid_template_columns": null,
            "grid_template_rows": null,
            "height": null,
            "justify_content": null,
            "justify_items": null,
            "left": null,
            "margin": null,
            "max_height": null,
            "max_width": null,
            "min_height": null,
            "min_width": null,
            "object_fit": null,
            "object_position": null,
            "order": null,
            "overflow": null,
            "overflow_x": null,
            "overflow_y": null,
            "padding": null,
            "right": null,
            "top": null,
            "visibility": null,
            "width": null
          }
        },
        "ae5ae314120d46e785af94fab8ad5053": {
          "model_module": "@jupyter-widgets/controls",
          "model_name": "DescriptionStyleModel",
          "model_module_version": "1.5.0",
          "state": {
            "_model_module": "@jupyter-widgets/controls",
            "_model_module_version": "1.5.0",
            "_model_name": "DescriptionStyleModel",
            "_view_count": null,
            "_view_module": "@jupyter-widgets/base",
            "_view_module_version": "1.2.0",
            "_view_name": "StyleView",
            "description_width": ""
          }
        },
        "6758c5f405094fd4a992f286b0289d23": {
          "model_module": "@jupyter-widgets/base",
          "model_name": "LayoutModel",
          "model_module_version": "1.2.0",
          "state": {
            "_model_module": "@jupyter-widgets/base",
            "_model_module_version": "1.2.0",
            "_model_name": "LayoutModel",
            "_view_count": null,
            "_view_module": "@jupyter-widgets/base",
            "_view_module_version": "1.2.0",
            "_view_name": "LayoutView",
            "align_content": null,
            "align_items": null,
            "align_self": null,
            "border": null,
            "bottom": null,
            "display": null,
            "flex": null,
            "flex_flow": null,
            "grid_area": null,
            "grid_auto_columns": null,
            "grid_auto_flow": null,
            "grid_auto_rows": null,
            "grid_column": null,
            "grid_gap": null,
            "grid_row": null,
            "grid_template_areas": null,
            "grid_template_columns": null,
            "grid_template_rows": null,
            "height": null,
            "justify_content": null,
            "justify_items": null,
            "left": null,
            "margin": null,
            "max_height": null,
            "max_width": null,
            "min_height": null,
            "min_width": null,
            "object_fit": null,
            "object_position": null,
            "order": null,
            "overflow": null,
            "overflow_x": null,
            "overflow_y": null,
            "padding": null,
            "right": null,
            "top": null,
            "visibility": null,
            "width": null
          }
        },
        "e93bb605c08d489ab335c42b3291fc7e": {
          "model_module": "@jupyter-widgets/controls",
          "model_name": "ProgressStyleModel",
          "model_module_version": "1.5.0",
          "state": {
            "_model_module": "@jupyter-widgets/controls",
            "_model_module_version": "1.5.0",
            "_model_name": "ProgressStyleModel",
            "_view_count": null,
            "_view_module": "@jupyter-widgets/base",
            "_view_module_version": "1.2.0",
            "_view_name": "StyleView",
            "bar_color": null,
            "description_width": ""
          }
        },
        "1c8dd24e936349969dcf2a977dfd40f7": {
          "model_module": "@jupyter-widgets/base",
          "model_name": "LayoutModel",
          "model_module_version": "1.2.0",
          "state": {
            "_model_module": "@jupyter-widgets/base",
            "_model_module_version": "1.2.0",
            "_model_name": "LayoutModel",
            "_view_count": null,
            "_view_module": "@jupyter-widgets/base",
            "_view_module_version": "1.2.0",
            "_view_name": "LayoutView",
            "align_content": null,
            "align_items": null,
            "align_self": null,
            "border": null,
            "bottom": null,
            "display": null,
            "flex": null,
            "flex_flow": null,
            "grid_area": null,
            "grid_auto_columns": null,
            "grid_auto_flow": null,
            "grid_auto_rows": null,
            "grid_column": null,
            "grid_gap": null,
            "grid_row": null,
            "grid_template_areas": null,
            "grid_template_columns": null,
            "grid_template_rows": null,
            "height": null,
            "justify_content": null,
            "justify_items": null,
            "left": null,
            "margin": null,
            "max_height": null,
            "max_width": null,
            "min_height": null,
            "min_width": null,
            "object_fit": null,
            "object_position": null,
            "order": null,
            "overflow": null,
            "overflow_x": null,
            "overflow_y": null,
            "padding": null,
            "right": null,
            "top": null,
            "visibility": null,
            "width": null
          }
        },
        "3e5f76ba10a44623928ef2a5a3edd659": {
          "model_module": "@jupyter-widgets/controls",
          "model_name": "DescriptionStyleModel",
          "model_module_version": "1.5.0",
          "state": {
            "_model_module": "@jupyter-widgets/controls",
            "_model_module_version": "1.5.0",
            "_model_name": "DescriptionStyleModel",
            "_view_count": null,
            "_view_module": "@jupyter-widgets/base",
            "_view_module_version": "1.2.0",
            "_view_name": "StyleView",
            "description_width": ""
          }
        }
      }
    }
  },
  "nbformat": 4,
  "nbformat_minor": 0
}